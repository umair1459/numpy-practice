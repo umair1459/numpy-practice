{
 "cells": [
  {
   "cell_type": "markdown",
   "id": "778e5d84-be84-4a2c-b14d-1a671a07b356",
   "metadata": {},
   "source": [
    "## NumPy Practice Guide"
   ]
  },
  {
   "cell_type": "markdown",
   "id": "1faaf36d-db82-414a-b1be-1eebc1d8e8b0",
   "metadata": {},
   "source": [
    "### Imports & version\n",
    "    Basics → Intermediate"
   ]
  },
  {
   "cell_type": "markdown",
   "id": "63b94864-3184-4cb8-88f0-455e70e25f7d",
   "metadata": {},
   "source": [
    "### Imports & version"
   ]
  },
  {
   "cell_type": "code",
   "execution_count": 1,
   "id": "ca337ab4-b308-46aa-95f6-de7e1f2679c0",
   "metadata": {},
   "outputs": [
    {
     "name": "stdout",
     "output_type": "stream",
     "text": [
      "NumPy version: 1.26.4\n"
     ]
    }
   ],
   "source": [
    "import numpy as np\n",
    "import time\n",
    "import timeit\n",
    "\n",
    "print(\"NumPy version:\", np.__version__)"
   ]
  },
  {
   "cell_type": "markdown",
   "id": "2dc07d44-07bc-40de-b1c6-029bdb7d94a3",
   "metadata": {},
   "source": [
    "### Array creation"
   ]
  },
  {
   "cell_type": "code",
   "execution_count": 2,
   "id": "5d73c2d4-c5e9-413b-ae69-0bb6de2b1e53",
   "metadata": {},
   "outputs": [
    {
     "name": "stdout",
     "output_type": "stream",
     "text": [
      "arange(10): [0 1 2 3 4 5 6 7 8 9]\n"
     ]
    }
   ],
   "source": [
    "# 1D creation\n",
    "a = np.arange(10)\n",
    "print(\"arange(10):\", a)"
   ]
  },
  {
   "cell_type": "code",
   "execution_count": 3,
   "id": "e5bf9f5e-2b63-4066-8937-a887d1e75529",
   "metadata": {},
   "outputs": [
    {
     "name": "stdout",
     "output_type": "stream",
     "text": [
      "linspace(0,20,5): [ 0.  5. 10. 15. 20.]\n"
     ]
    }
   ],
   "source": [
    "# linspace\n",
    "b = np.linspace(0, 20, num=5)\n",
    "print(\"linspace(0,20,5):\", b)"
   ]
  },
  {
   "cell_type": "code",
   "execution_count": 4,
   "id": "f585eb85-bc16-47ab-b68b-be83a595f15e",
   "metadata": {},
   "outputs": [
    {
     "name": "stdout",
     "output_type": "stream",
     "text": [
      "zeros:\n",
      " [[0. 0. 0. 0.]\n",
      " [0. 0. 0. 0.]\n",
      " [0. 0. 0. 0.]]\n"
     ]
    }
   ],
   "source": [
    "# Zeros\n",
    "z = np.zeros((3,4))\n",
    "print(\"zeros:\\n\", z)"
   ]
  },
  {
   "cell_type": "code",
   "execution_count": 5,
   "id": "a6e359aa-903e-48bf-bdc9-76b2ad5882d1",
   "metadata": {},
   "outputs": [
    {
     "name": "stdout",
     "output_type": "stream",
     "text": [
      "ones: [1. 1. 1. 1. 1.]\n"
     ]
    }
   ],
   "source": [
    "o = np.ones(5)\n",
    "print(\"ones:\", o)"
   ]
  },
  {
   "cell_type": "code",
   "execution_count": 6,
   "id": "0f9c27b5-5f5c-4efd-8c38-c44f66a68abf",
   "metadata": {},
   "outputs": [
    {
     "name": "stdout",
     "output_type": "stream",
     "text": [
      "full:\n",
      " [[7 7 7]\n",
      " [7 7 7]]\n"
     ]
    }
   ],
   "source": [
    "# Full\n",
    "f = np.full((2,3), 7)\n",
    "print(\"full:\\n\", f)"
   ]
  },
  {
   "cell_type": "code",
   "execution_count": 7,
   "id": "4aba0024-c052-485a-9889-bf11470b1352",
   "metadata": {},
   "outputs": [
    {
     "name": "stdout",
     "output_type": "stream",
     "text": [
      "empty (uninitialised):\n",
      " [[0. 0. 0.]\n",
      " [0. 0. 0.]]\n"
     ]
    }
   ],
   "source": [
    "e = np.empty((2,3))  # values not initialised\n",
    "print(\"empty (uninitialised):\\n\", e)"
   ]
  },
  {
   "cell_type": "code",
   "execution_count": 8,
   "id": "ba32541c-ba0c-42a3-9f8a-397ddeab9682",
   "metadata": {},
   "outputs": [
    {
     "name": "stdout",
     "output_type": "stream",
     "text": [
      "reshape 3x4:\n",
      " [[ 0  1  2  3]\n",
      " [ 4  5  6  7]\n",
      " [ 8  9 10 11]]\n"
     ]
    }
   ],
   "source": [
    "# reshape\n",
    "c = np.arange(12).reshape(3,4)\n",
    "print(\"reshape 3x4:\\n\", c)"
   ]
  },
  {
   "cell_type": "markdown",
   "id": "370636da-bbab-4859-8260-dec56edacf20",
   "metadata": {},
   "source": [
    "### Identity & diagonal"
   ]
  },
  {
   "cell_type": "code",
   "execution_count": 9,
   "id": "f689ddf3-a2b4-4cb8-810f-02be76e0452a",
   "metadata": {},
   "outputs": [
    {
     "name": "stdout",
     "output_type": "stream",
     "text": [
      "Identity 4x4:\n",
      " [[1. 0. 0. 0.]\n",
      " [0. 1. 0. 0.]\n",
      " [0. 0. 1. 0.]\n",
      " [0. 0. 0. 1.]]\n"
     ]
    }
   ],
   "source": [
    "I = np.eye(4)\n",
    "print(\"Identity 4x4:\\n\", I)"
   ]
  },
  {
   "cell_type": "code",
   "execution_count": 10,
   "id": "c12f1c61-5008-4fe6-a57d-b0299b1b429e",
   "metadata": {},
   "outputs": [
    {
     "name": "stdout",
     "output_type": "stream",
     "text": [
      "Diagonal:\n",
      " [[10  0  0  0]\n",
      " [ 0 20  0  0]\n",
      " [ 0  0 30  0]\n",
      " [ 0  0  0 40]]\n"
     ]
    }
   ],
   "source": [
    "D = np.diag([10,20,30,40])\n",
    "print(\"Diagonal:\\n\", D)"
   ]
  },
  {
   "cell_type": "markdown",
   "id": "f00fa43a-012b-4e13-b84f-76be57cd600b",
   "metadata": {},
   "source": [
    "### Indexing & slicing (1D & 2D)"
   ]
  },
  {
   "cell_type": "code",
   "execution_count": 11,
   "id": "eafe7765-33fd-44f7-a524-44333bc82733",
   "metadata": {},
   "outputs": [
    {
     "name": "stdout",
     "output_type": "stream",
     "text": [
      "arr:\n",
      " [[ 0  1  2  3  4]\n",
      " [ 5  6  7  8  9]\n",
      " [10 11 12 13 14]\n",
      " [15 16 17 18 19]]\n"
     ]
    }
   ],
   "source": [
    "arr = np.arange(20).reshape(4,5)\n",
    "print(\"arr:\\n\", arr)"
   ]
  },
  {
   "cell_type": "code",
   "execution_count": 12,
   "id": "55b18d78-7f41-4c6d-9d99-fb98ad2eb06b",
   "metadata": {},
   "outputs": [
    {
     "name": "stdout",
     "output_type": "stream",
     "text": [
      "arr[1]: [5 6 7 8 9]\n"
     ]
    }
   ],
   "source": [
    "# row 1\n",
    "print(\"arr[1]:\", arr[1])"
   ]
  },
  {
   "cell_type": "code",
   "execution_count": 13,
   "id": "0d08c858-5d1f-4d28-83d1-f256f09fb775",
   "metadata": {},
   "outputs": [
    {
     "name": "stdout",
     "output_type": "stream",
     "text": [
      "arr[:,2]: [ 2  7 12 17]\n"
     ]
    }
   ],
   "source": [
    "# column 2\n",
    "print(\"arr[:,2]:\", arr[:,2])"
   ]
  },
  {
   "cell_type": "code",
   "execution_count": 14,
   "id": "426ba340-0041-476a-96de-b668abdec9c9",
   "metadata": {},
   "outputs": [
    {
     "name": "stdout",
     "output_type": "stream",
     "text": [
      "arr[1:3, 2:5]:\n",
      " [[ 7  8  9]\n",
      " [12 13 14]]\n"
     ]
    }
   ],
   "source": [
    "# submatrix\n",
    "print(\"arr[1:3, 2:5]:\\n\", arr[1:3, 2:5])"
   ]
  },
  {
   "cell_type": "code",
   "execution_count": 15,
   "id": "e1aebdae-b7e4-4424-8aee-38997bd798c8",
   "metadata": {},
   "outputs": [
    {
     "name": "stdout",
     "output_type": "stream",
     "text": [
      "rows 0 and 2:\n",
      " [[ 0  1  2  3  4]\n",
      " [10 11 12 13 14]]\n"
     ]
    }
   ],
   "source": [
    "# fancy indexing (pick rows 0 and 2)\n",
    "print(\"rows 0 and 2:\\n\", arr[[0,2], :])"
   ]
  },
  {
   "cell_type": "code",
   "execution_count": 16,
   "id": "ff2b7342-9d1f-406d-8ec5-42de56b75498",
   "metadata": {},
   "outputs": [
    {
     "name": "stdout",
     "output_type": "stream",
     "text": [
      "even elements (flattened): [ 0  2  4  6  8 10 12 14 16 18]\n"
     ]
    }
   ],
   "source": [
    "# boolean masking (even numbers)\n",
    "mask = (arr % 2 == 0)\n",
    "print(\"even elements (flattened):\", arr[mask])"
   ]
  },
  {
   "cell_type": "code",
   "execution_count": 17,
   "id": "d4b4a942-d267-466f-ae24-5cee595d067d",
   "metadata": {},
   "outputs": [
    {
     "name": "stdout",
     "output_type": "stream",
     "text": [
      "arr2 (multiples of 3 replaced with -1):\n",
      " [[-1  1  2 -1  4]\n",
      " [ 5 -1  7  8 -1]\n",
      " [10 11 -1 13 14]\n",
      " [-1 16 17 -1 19]]\n"
     ]
    }
   ],
   "source": [
    "# assignment with mask\n",
    "arr2 = arr.copy()\n",
    "arr2[arr2 % 3 == 0] = -1\n",
    "print(\"arr2 (multiples of 3 replaced with -1):\\n\", arr2)"
   ]
  },
  {
   "cell_type": "markdown",
   "id": "dac7ed6b-ed9f-469b-9ea9-38e9392fd44d",
   "metadata": {},
   "source": [
    "### Fancy indexing examples"
   ]
  },
  {
   "cell_type": "code",
   "execution_count": 18,
   "id": "2c9c5bd9-8d95-4651-b6aa-70b34629d804",
   "metadata": {},
   "outputs": [
    {
     "name": "stdout",
     "output_type": "stream",
     "text": [
      "m:\n",
      " [[ 0  1  2  3]\n",
      " [ 4  5  6  7]\n",
      " [ 8  9 10 11]\n",
      " [12 13 14 15]]\n",
      "\n",
      "pick (0,3),(1,2),(2,1): [3 6 9]\n"
     ]
    }
   ],
   "source": [
    "# example: select elements by index arrays\n",
    "m = np.arange(16).reshape(4,4)\n",
    "rows = np.array([0,1,2])\n",
    "cols = np.array([3,2,1])\n",
    "print(\"m:\\n\", m)\n",
    "print(\"\\npick (0,3),(1,2),(2,1):\", m[rows, cols])\n"
   ]
  },
  {
   "cell_type": "markdown",
   "id": "2482f728-6c03-41ed-aa33-c8d178af4e0a",
   "metadata": {},
   "source": [
    "### Broadcasting"
   ]
  },
  {
   "cell_type": "code",
   "execution_count": 19,
   "id": "8ce9f463-b973-45e9-bbaa-2702b2e10727",
   "metadata": {},
   "outputs": [
    {
     "name": "stdout",
     "output_type": "stream",
     "text": [
      "A:\n",
      " [[0]\n",
      " [1]\n",
      " [2]]\n",
      "\n",
      "B: [ 0 10 20]\n",
      "\n",
      "A + B  => broadcasted result:\n",
      " [[ 0 10 20]\n",
      " [ 1 11 21]\n",
      " [ 2 12 22]]\n",
      "\n",
      "M + 5:\n",
      " [[6. 6. 6.]\n",
      " [6. 6. 6.]]\n"
     ]
    }
   ],
   "source": [
    "A = np.arange(3).reshape(3,1)    # shape (3,1)\n",
    "B = np.array([0,10,20])          # shape (3,)\n",
    "print(\"A:\\n\", A)\n",
    "print(\"\\nB:\", B)\n",
    "print(\"\\nA + B  => broadcasted result:\\n\", A + B)  # (3,3)\n",
    "\n",
    "# scalar broadcasting\n",
    "M = np.ones((2,3))\n",
    "print(\"\\nM + 5:\\n\", M + 5)\n"
   ]
  },
  {
   "cell_type": "markdown",
   "id": "239684f5-9d07-41f1-9999-3b4f0122715c",
   "metadata": {},
   "source": [
    "### Aggregations & axis ops"
   ]
  },
  {
   "cell_type": "code",
   "execution_count": 20,
   "id": "b292b248-e968-452e-8431-102a63debcd2",
   "metadata": {},
   "outputs": [
    {
     "name": "stdout",
     "output_type": "stream",
     "text": [
      "M:\n",
      " [[8 6 5 3 3]\n",
      " [1 1 1 2 8]\n",
      " [6 9 5 6 9]\n",
      " [7 6 5 6 9]]\n",
      "\n",
      "sum all: 106\n",
      "\n",
      "sum axis=0 (columns): [22 22 16 17 29]\n",
      "\n",
      "sum axis=1 (rows): [25 13 35 33]\n",
      "\n",
      "mean axis=1: [5.  2.6 7.  6.6]\n",
      "\n",
      "argmax axis=1 (index of max in each row): [0 4 1 4]\n",
      "\n",
      "cumsum axis=0:\n",
      " [[ 8  6  5  3  3]\n",
      " [ 9  7  6  5 11]\n",
      " [15 16 11 11 20]\n",
      " [22 22 16 17 29]]\n"
     ]
    }
   ],
   "source": [
    "rng = np.random.default_rng(0)\n",
    "M = rng.integers(1, 10, size=(4,5))\n",
    "print(\"M:\\n\", M)\n",
    "\n",
    "print(\"\\nsum all:\", M.sum())\n",
    "print(\"\\nsum axis=0 (columns):\", M.sum(axis=0))\n",
    "print(\"\\nsum axis=1 (rows):\", M.sum(axis=1))\n",
    "print(\"\\nmean axis=1:\", M.mean(axis=1))\n",
    "print(\"\\nargmax axis=1 (index of max in each row):\", M.argmax(axis=1))\n",
    "print(\"\\ncumsum axis=0:\\n\", M.cumsum(axis=0))\n"
   ]
  },
  {
   "cell_type": "markdown",
   "id": "87a91dd8-00be-4a7e-b367-ce6e6067057f",
   "metadata": {},
   "source": [
    "### Sorting & searching"
   ]
  },
  {
   "cell_type": "code",
   "execution_count": 21,
   "id": "ed2ee859-fbe2-4415-866d-0a34da4025af",
   "metadata": {},
   "outputs": [
    {
     "name": "stdout",
     "output_type": "stream",
     "text": [
      "sorted: [1 2 3 4 7 8]\n",
      "argsort: [1 3 0 5 4 2]\n",
      "positions > 4: (array([2, 4], dtype=int64),)\n",
      "unique: [1 2 3 4]\n",
      "counts: [2 3 1 1]\n"
     ]
    }
   ],
   "source": [
    "vals = np.array([3,1,8,2,7,4])\n",
    "print(\"sorted:\", np.sort(vals))\n",
    "print(\"argsort:\", np.argsort(vals))  # positions that would sort array\n",
    "\n",
    "# where\n",
    "print(\"positions > 4:\", np.where(vals > 4))\n",
    "\n",
    "# unique + counts\n",
    "uniq, counts = np.unique(np.array([1,2,2,3,1,4,2]), return_counts=True)\n",
    "print(\"unique:\", uniq)\n",
    "print(\"counts:\", counts)\n"
   ]
  },
  {
   "cell_type": "markdown",
   "id": "c9977b17-84a9-4d96-b311-ca74d568214b",
   "metadata": {},
   "source": [
    "### Random numbers"
   ]
  },
  {
   "cell_type": "code",
   "execution_count": 22,
   "id": "390238ef-72e7-4270-8901-86fdc3db3e06",
   "metadata": {},
   "outputs": [
    {
     "name": "stdout",
     "output_type": "stream",
     "text": [
      "randint: [5 0 3 3 7 9 3 5]\n",
      "choice: [30 10 40 30 10]\n",
      "permutation: [5 2 3 4 9 0 7 6 1 8]\n"
     ]
    }
   ],
   "source": [
    "np.random.seed(0)\n",
    "ri = np.random.randint(0, 10, size=8)\n",
    "ch = np.random.choice([10,20,30,40], size=5, replace=True)\n",
    "perm = np.random.permutation(10)\n",
    "\n",
    "print(\"randint:\", ri)\n",
    "print(\"choice:\", ch)\n",
    "print(\"permutation:\", perm)\n"
   ]
  },
  {
   "cell_type": "markdown",
   "id": "fcc5dd66-c111-429b-bb06-3fa3cc70da9b",
   "metadata": {},
   "source": [
    "### ravel vs flatten"
   ]
  },
  {
   "cell_type": "code",
   "execution_count": 23,
   "id": "fdbced1f-b4fc-4c5c-9857-85b759ea3c54",
   "metadata": {},
   "outputs": [
    {
     "name": "stdout",
     "output_type": "stream",
     "text": [
      "after changing ravel, X[0,0]: 999\n",
      "after changing flatten, X[0,0]: 999\n"
     ]
    }
   ],
   "source": [
    "X = np.arange(12).reshape(3,4)\n",
    "r = X.ravel()   # view, not copy\n",
    "f = X.flatten() # copy\n",
    "r[0] = 999\n",
    "print(\"after changing ravel, X[0,0]:\", X[0,0])  # changed\n",
    "f[0] = -1\n",
    "print(\"after changing flatten, X[0,0]:\", X[0,0]) # unaffected"
   ]
  },
  {
   "cell_type": "markdown",
   "id": "b0fa136a-2a21-4a70-ad68-31469f1d127b",
   "metadata": {},
   "source": [
    "### Vectorization vs Python loop (speed test)"
   ]
  },
  {
   "cell_type": "code",
   "execution_count": 24,
   "id": "6b455743-a8cb-4e55-ae9f-30a1201726ae",
   "metadata": {},
   "outputs": [
    {
     "name": "stdout",
     "output_type": "stream",
     "text": [
      "python loop time: 0.0576 sec\n",
      "numpy vectorized time: 0.007 sec\n"
     ]
    }
   ],
   "source": [
    "# small demo. Increase n to test on your machine.\n",
    "n = 200_000\n",
    "\n",
    "# python loop\n",
    "def py_square(n):\n",
    "    out = []\n",
    "    for i in range(n):\n",
    "        out.append(i*i)\n",
    "    return out\n",
    "\n",
    "t0 = time.time()\n",
    "_ = py_square(n)\n",
    "t1 = time.time()\n",
    "print(\"python loop time:\", round(t1-t0,4), \"sec\")\n",
    "\n",
    "# numpy vectorized\n",
    "t0 = time.time()\n",
    "_ = (np.arange(n) ** 2)\n",
    "t1 = time.time()\n",
    "print(\"numpy vectorized time:\", round(t1-t0,4), \"sec\")\n"
   ]
  }
 ],
 "metadata": {
  "kernelspec": {
   "display_name": "Python [conda env:base] *",
   "language": "python",
   "name": "conda-base-py"
  },
  "language_info": {
   "codemirror_mode": {
    "name": "ipython",
    "version": 3
   },
   "file_extension": ".py",
   "mimetype": "text/x-python",
   "name": "python",
   "nbconvert_exporter": "python",
   "pygments_lexer": "ipython3",
   "version": "3.12.7"
  }
 },
 "nbformat": 4,
 "nbformat_minor": 5
}
